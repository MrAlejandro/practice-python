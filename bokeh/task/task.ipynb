{
 "cells": [
  {
   "cell_type": "code",
   "execution_count": 14,
   "metadata": {},
   "outputs": [],
   "source": [
    "from bokeh.plotting import figure, show, output_file\n",
    "import pandas\n",
    "\n",
    "data = pandas.read_excel('verlegenhuken.xlsx')\n",
    "teperatures = [i/10 for i in data['Temperature']]\n",
    "pressures = [i/10 for i in data['Pressure']]"
   ]
  },
  {
   "cell_type": "code",
   "execution_count": 17,
   "metadata": {
    "collapsed": true
   },
   "outputs": [],
   "source": [
    "p = figure(title = \"Temperature And Pressure\")\n",
    "p.xaxis.axis_label = 'Temperature (C)'\n",
    "p.yaxis.axis_label = 'Pressure (hPa)'\n",
    "\n",
    "p.circle(teperatures, pressures,\n",
    "         color='blue', fill_alpha=1, size=2)\n",
    "\n",
    "output_file(\"tandp.html\", title=\"task.py example\")\n",
    "\n",
    "show(p)"
   ]
  }
 ],
 "metadata": {
  "kernelspec": {
   "display_name": "Python 3",
   "language": "python",
   "name": "python3"
  },
  "language_info": {
   "codemirror_mode": {
    "name": "ipython",
    "version": 3
   },
   "file_extension": ".py",
   "mimetype": "text/x-python",
   "name": "python",
   "nbconvert_exporter": "python",
   "pygments_lexer": "ipython3",
   "version": "3.6.1"
  }
 },
 "nbformat": 4,
 "nbformat_minor": 2
}
