{
 "cells": [
  {
   "cell_type": "code",
   "execution_count": 8,
   "metadata": {
    "collapsed": true
   },
   "outputs": [],
   "source": [
    "from bokeh.charts import Scatter, output_file, show\n",
    "import pandas\n",
    "\n",
    "data_frame = pandas.DataFrame(columns=[\"X\", \"Y\"])\n",
    "data_frame[\"X\"] = [1,2,3,4,5]\n",
    "data_frame[\"Y\"] = [5,6,4,5,3]\n",
    "\n",
    "plot = Scatter(data_frame, \n",
    "               x=\"X\",\n",
    "               y=\"Y\",\n",
    "               title=\"Temperatrues Observation\",\n",
    "               xlabel=\"Day of observation\",\n",
    "               ylabel=\"Temperature\"\n",
    "              )\n",
    "\n",
    "output_file('temperatures_plot.html')\n",
    "\n",
    "show(plot)"
   ]
  },
  {
   "cell_type": "code",
   "execution_count": 19,
   "metadata": {},
   "outputs": [
    {
     "name": "stderr",
     "output_type": "stream",
     "text": [
      "E-1001 (BAD_COLUMN_NAME): Glyph refers to nonexistent column name: red,resize [renderer: GlyphRenderer(id='3ad3e01e-64d6-499e-951d-660f4813732a', ...)]\n"
     ]
    }
   ],
   "source": [
    "from bokeh.plotting import figure, output_file, show\n",
    "\n",
    "plot = figure(plot_width=700, plot_height=500, title = 'My amazing title', logo=None, tools='save,resize')\n",
    "\n",
    "plot.title.text_color = 'Orange'\n",
    "plot.title.text_font = 'times'\n",
    "\n",
    "#plot.yaxis.minor_tick_color=None\n",
    "#help(plot.title)\n",
    "\n",
    "plot.circle([1,2,3,4,5], [5,6,4,5,3], size=[i*2 for i in [8,10,12,14,16]], color='red', alpha = 0.5)\n",
    "\n",
    "output_file('tempertures_plot.html', mode='absolute')\n",
    "\n",
    "show(plot)\n",
    "\n"
   ]
  },
  {
   "cell_type": "code",
   "execution_count": 21,
   "metadata": {},
   "outputs": [
    {
     "name": "stderr",
     "output_type": "stream",
     "text": [
      "E-1001 (BAD_COLUMN_NAME): Glyph refers to nonexistent column name: red,resize [renderer: GlyphRenderer(id='3ad3e01e-64d6-499e-951d-660f4813732a', ...)]\n"
     ]
    }
   ],
   "source": [
    "from bokeh.plotting import figure, output_file, show\n",
    "import pandas\n",
    "\n",
    "df = pandas.read_csv('adbe.csv', parse_dates=['Date'])\n",
    "\n",
    "p = figure(width=500, height=250, x_axis_type='datetime')\n",
    "p.line(df['Date'], df['Close'], color=\"orange\", alpha=0.5);\n",
    "\n",
    "output_file('closedate.html')\n",
    "\n",
    "show(p)"
   ]
  }
 ],
 "metadata": {
  "kernelspec": {
   "display_name": "Python 3",
   "language": "python",
   "name": "python3"
  },
  "language_info": {
   "codemirror_mode": {
    "name": "ipython",
    "version": 3
   },
   "file_extension": ".py",
   "mimetype": "text/x-python",
   "name": "python",
   "nbconvert_exporter": "python",
   "pygments_lexer": "ipython3",
   "version": "3.6.1"
  }
 },
 "nbformat": 4,
 "nbformat_minor": 2
}
